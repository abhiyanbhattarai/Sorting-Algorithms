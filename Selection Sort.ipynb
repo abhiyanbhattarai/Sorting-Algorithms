{
 "cells": [
  {
   "cell_type": "markdown",
   "metadata": {},
   "source": [
    "# Selection Sorting\n",
    "\n",
    "**Pseudo Code:**\n",
    "1. Assign 1st element of list as a minimum.\n",
    "2. Compare min with 2nd element.\n",
    "3. If min is greater than 2nd element, assign min to 2nd element.\n",
    "4. Repeat the same for all ellements.\n",
    "5. After comparing all elements, put min to initial index value.\n",
    "6. Again do same process staring from 2nd index."
   ]
  },
  {
   "cell_type": "code",
   "execution_count": 6,
   "metadata": {},
   "outputs": [],
   "source": [
    "# Selection Sort\n",
    "def selection_sort(lst):\n",
    "    \n",
    "    #Looping throughout our list\n",
    "    for i in range(len(lst)):\n",
    "        \n",
    "        # Assigning min index as the 1st element\n",
    "        min = i\n",
    "        \n",
    "        #Looping and checking the values\n",
    "        for j in range(i+1 , len(lst)):\n",
    "        \n",
    "            #Checking if our minimum value is greater than other index value\n",
    "            if lst[min] > lst[j]:\n",
    "                \n",
    "                #if condition satisfied, we assign min to another smaller value\n",
    "                min = j\n",
    "        \n",
    "        #Swapping and putting the values in a sorted order \n",
    "        temp = lst[min]\n",
    "        lst[min] = lst[i]\n",
    "        lst[i] = temp\n",
    "    \n",
    "    return lst"
   ]
  },
  {
   "cell_type": "code",
   "execution_count": 3,
   "metadata": {},
   "outputs": [
    {
     "name": "stdout",
     "output_type": "stream",
     "text": [
      "Before Sorting: [5, 10, 2, 8, 4, 9, 1] \n",
      "\n",
      "After Sorting: [1, 2, 4, 5, 8, 9, 10]\n"
     ]
    }
   ],
   "source": [
    "lst = [5,10,2,8,4,9,1]\n",
    "print(\"Before Sorting:\",lst,'\\n')\n",
    "print(\"After Sorting:\",selection_sort(lst))"
   ]
  },
  {
   "cell_type": "markdown",
   "metadata": {},
   "source": [
    "#### Shorter Version of the code"
   ]
  },
  {
   "cell_type": "code",
   "execution_count": 4,
   "metadata": {},
   "outputs": [],
   "source": [
    "# Selection Sort\n",
    "def selection_sort_shorter(lst):\n",
    "    \n",
    "    # Assigning length to n \n",
    "    n = len(lst)\n",
    "\n",
    "    for i in range(n-1):\n",
    "        \n",
    "        # Getting the minimum value \n",
    "        min_index = i\n",
    "\n",
    "        # For each elements in the list and comparing to the minimum value\n",
    "        for j in range( i + 1 , n):\n",
    "\n",
    "            if lst[j] < lst[min_index]:\n",
    "\n",
    "                min_index = j\n",
    "        \n",
    "        # Swapping the minimum value with the index 'i'\n",
    "        lst[i] , lst[min_index] = lst[min_index], lst[i]\n",
    "\n",
    "    return lst"
   ]
  },
  {
   "cell_type": "code",
   "execution_count": 5,
   "metadata": {},
   "outputs": [
    {
     "name": "stdout",
     "output_type": "stream",
     "text": [
      "Before Sorting: [5, 10, 2, 8, 4, 9, 1] \n",
      "\n",
      "After Sorting: [1, 2, 4, 5, 8, 9, 10]\n"
     ]
    }
   ],
   "source": [
    "lst = [5,10,2,8,4,9,1]\n",
    "print(\"Before Sorting:\",lst,'\\n')\n",
    "print(\"After Sorting:\",selection_sort_shorter(lst))"
   ]
  }
 ],
 "metadata": {
  "kernelspec": {
   "display_name": "Python 3 (ipykernel)",
   "language": "python",
   "name": "python3"
  },
  "language_info": {
   "codemirror_mode": {
    "name": "ipython",
    "version": 3
   },
   "file_extension": ".py",
   "mimetype": "text/x-python",
   "name": "python",
   "nbconvert_exporter": "python",
   "pygments_lexer": "ipython3",
   "version": "3.9.12"
  },
  "vscode": {
   "interpreter": {
    "hash": "570feb405e2e27c949193ac68f46852414290d515b0ba6e5d90d076ed2284471"
   }
  }
 },
 "nbformat": 4,
 "nbformat_minor": 2
}

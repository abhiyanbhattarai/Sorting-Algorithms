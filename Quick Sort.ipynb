{
 "cells": [
  {
   "cell_type": "markdown",
   "id": "8e92a7df",
   "metadata": {},
   "source": [
    "# Quick Sort"
   ]
  },
  {
   "cell_type": "markdown",
   "id": "7e2ad2be",
   "metadata": {},
   "source": [
    "**Working:**\n",
    "\n",
    "1. **Pviot Element**\n",
    "Choose the pivot element from the list or array, often we select rightmost element.\n",
    "\n",
    "\n",
    "2. **Partition**\n",
    "Arranging the elements that are less than pivot to left and greater than pivot to right. Pivot itself will be in sorted position.\n",
    "\n",
    "\n",
    "3. **Recursion**\n",
    "Repeat partition and sorting .\n",
    "\n",
    "\n",
    "4. **Combine**\n",
    "Combine all the subarrays or list, and you will get sorted list or array. "
   ]
  },
  {
   "cell_type": "code",
   "execution_count": null,
   "id": "8b73e621",
   "metadata": {},
   "outputs": [],
   "source": []
  }
 ],
 "metadata": {
  "kernelspec": {
   "display_name": "Python 3 (ipykernel)",
   "language": "python",
   "name": "python3"
  },
  "language_info": {
   "codemirror_mode": {
    "name": "ipython",
    "version": 3
   },
   "file_extension": ".py",
   "mimetype": "text/x-python",
   "name": "python",
   "nbconvert_exporter": "python",
   "pygments_lexer": "ipython3",
   "version": "3.9.12"
  }
 },
 "nbformat": 4,
 "nbformat_minor": 5
}

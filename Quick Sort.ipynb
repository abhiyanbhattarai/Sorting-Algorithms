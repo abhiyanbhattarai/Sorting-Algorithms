{
 "cells": [
  {
   "cell_type": "markdown",
   "id": "3604e51b",
   "metadata": {},
   "source": [
    "# Quick Sort"
   ]
  },
  {
   "cell_type": "markdown",
   "id": "47d4e36c",
   "metadata": {},
   "source": [
    "**Quick sort** is based on divide and conquer algorithm where:\n",
    "\n",
    "**Working:**\n",
    "\n",
    "1. **Pviot Element**\n",
    "\n",
    "    Choose the pivot element from the list or array, often we select rightmost element.\n",
    "\n",
    "2. **Partition**\n",
    "\n",
    "    Arranging the elements that are less than pivot to left and greater than pivot to right. Pivot itself will be in sorted position.\n",
    "\n",
    "3. **Recursion**\n",
    "\n",
    "    Repeat partition and sorting .\n",
    "\n",
    "4. **Combine**\n",
    "    \n",
    "    Combine all the subarrays or list, and you will get sorted list or array. "
   ]
  },
  {
   "cell_type": "code",
   "execution_count": 3,
   "id": "0b81f348",
   "metadata": {},
   "outputs": [],
   "source": [
    "# Define the funtion to quick sort\n",
    "def quick_sort(lst, low, high):\n",
    "    \n",
    "    if low < high:\n",
    "        pivot_index = partition(lst, low, high)\n",
    "        quick_sort(lst, low, pivot_index - 1) # Sort elements before pivot\n",
    "        quick_sort(lst, pivot_index + 1, high) # Sort elements after pivot\n",
    "\n",
    "# Function to parition the list \n",
    "def partition(lst, low, high):\n",
    "    \n",
    "    pivot = lst[high] # Assigning rightmost element as pivot\n",
    "    i = low - 1\n",
    "    \n",
    "    for j in range(low, high):\n",
    "        if lst[j] < pivot:  \n",
    "            i += 1\n",
    "            lst[i], lst[j] = lst[j], lst[i]# lower element is swapped\n",
    "    \n",
    "    # Putting pivot element to the correct sorted position\n",
    "    lst[i + 1], lst[high] = lst[high], lst[i + 1]\n",
    "    return i + 1\n"
   ]
  },
  {
   "cell_type": "code",
   "execution_count": 5,
   "id": "2543cb1c",
   "metadata": {},
   "outputs": [
    {
     "name": "stdout",
     "output_type": "stream",
     "text": [
      "Before Sorting: [5, 10, 8, 7, 6, 1, 4] \n",
      "\n",
      "After Sorting: [1, 4, 5, 6, 7, 8, 10]\n"
     ]
    }
   ],
   "source": [
    "lst = [5, 10, 8, 7, 6, 1, 4]\n",
    "\n",
    "print('Before Sorting:',lst,'\\n')\n",
    "high = len(lst)\n",
    "quick_sort(lst,0,high-1)\n",
    "print('After Sorting:',lst)"
   ]
  }
 ],
 "metadata": {
  "kernelspec": {
   "display_name": "Python 3 (ipykernel)",
   "language": "python",
   "name": "python3"
  },
  "language_info": {
   "codemirror_mode": {
    "name": "ipython",
    "version": 3
   },
   "file_extension": ".py",
   "mimetype": "text/x-python",
   "name": "python",
   "nbconvert_exporter": "python",
   "pygments_lexer": "ipython3",
   "version": "3.9.12"
  }
 },
 "nbformat": 4,
 "nbformat_minor": 5
}

{
 "cells": [
  {
   "cell_type": "markdown",
   "id": "c7c58299",
   "metadata": {},
   "source": [
    "# Quick Sort"
   ]
  },
  {
   "cell_type": "markdown",
   "id": "b99e13ab",
   "metadata": {},
   "source": [
    "Quick sort is based on divide and conquer \n",
    "\n",
    "**Working:**\n",
    "\n",
    "1. **Pviot Element**\n",
    "\n",
    "    Choose the pivot element from the list or array, often we select rightmost element.\n",
    "\n",
    "2. **Partition**\n",
    "\n",
    "    Arranging the elements that are less than pivot to left and greater than pivot to right. Pivot itself will be in sorted position.\n",
    "\n",
    "3. **Recursion**\n",
    "\n",
    "    Repeat partition and sorting .\n",
    "\n",
    "4. **Combine**\n",
    "    \n",
    "    Combine all the subarrays or list, and you will get sorted list or array. "
   ]
  },
  {
   "cell_type": "code",
   "execution_count": null,
   "id": "dc863964",
   "metadata": {},
   "outputs": [],
   "source": [
    "def quick_sort():"
   ]
  }
 ],
 "metadata": {
  "kernelspec": {
   "display_name": "Python 3 (ipykernel)",
   "language": "python",
   "name": "python3"
  },
  "language_info": {
   "codemirror_mode": {
    "name": "ipython",
    "version": 3
   },
   "file_extension": ".py",
   "mimetype": "text/x-python",
   "name": "python",
   "nbconvert_exporter": "python",
   "pygments_lexer": "ipython3",
   "version": "3.9.12"
  }
 },
 "nbformat": 4,
 "nbformat_minor": 5
}

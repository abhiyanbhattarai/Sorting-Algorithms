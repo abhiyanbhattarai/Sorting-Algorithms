{
 "cells": [
  {
   "cell_type": "markdown",
   "metadata": {
    "id": "Lx93Vq9bFqus"
   },
   "source": [
    "# **Bubble Sort**\n",
    "\n",
    "Bubble sort is simple sorting algorithm that look into values form left to right.\n",
    "\n",
    "Pseudo Code:\n",
    "\n",
    "1. Check if the 1st value is greater than 2nd.\n",
    "2. If greater than 2nd, apply swap. Otherwise, move to next value.\n",
    "3. Check until you get to last value in list.\n",
    "4. Do this until we our condition is satisfied."
   ]
  },
  {
   "cell_type": "code",
   "execution_count": 1,
   "metadata": {
    "id": "_A0PvoS9PwTG"
   },
   "outputs": [],
   "source": [
    "#Assigning list \n",
    "lst=[5,3,2,9,8,1,6]"
   ]
  },
  {
   "cell_type": "code",
   "execution_count": 2,
   "metadata": {
    "id": "3z3ci57CP3AX"
   },
   "outputs": [],
   "source": [
    "def bubble_sort(lst):\n",
    "  #Looping through the list\n",
    "  for i in range(len(lst)):\n",
    "    #Looping and checking for lower values\n",
    "    for j in range(0,len(lst)-i-1):\n",
    "      #Check if the previous value is greater than next value\n",
    "      if lst[j] > lst[j+1]:\n",
    "        #Swaping the values\n",
    "        temp = lst[j]\n",
    "        lst[j] = lst[j+1]\n",
    "        lst[j+1] = temp\n",
    "  #Returing the list after sorting.\n",
    "  return lst"
   ]
  },
  {
   "cell_type": "code",
   "execution_count": 3,
   "metadata": {
    "colab": {
     "base_uri": "https://localhost:8080/"
    },
    "id": "PCICWt0xQiCQ",
    "outputId": "8b2e9040-63cc-439f-e721-4fdf5ee99d5d"
   },
   "outputs": [
    {
     "name": "stdout",
     "output_type": "stream",
     "text": [
      "Before Sorting: [5, 3, 2, 9, 8, 1, 6]\n",
      "After Sorting: [1, 2, 3, 5, 6, 8, 9]\n"
     ]
    }
   ],
   "source": [
    "print('Before Sorting:',lst)\n",
    "print('After Sorting:',bubble_sort(lst))"
   ]
  }
 ],
 "metadata": {
  "colab": {
   "provenance": []
  },
  "kernelspec": {
   "display_name": "Python 3 (ipykernel)",
   "language": "python",
   "name": "python3"
  },
  "language_info": {
   "codemirror_mode": {
    "name": "ipython",
    "version": 3
   },
   "file_extension": ".py",
   "mimetype": "text/x-python",
   "name": "python",
   "nbconvert_exporter": "python",
   "pygments_lexer": "ipython3",
   "version": "3.9.12"
  }
 },
 "nbformat": 4,
 "nbformat_minor": 1
}

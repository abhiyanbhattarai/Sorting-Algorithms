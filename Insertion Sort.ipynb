{
 "cells": [
  {
   "cell_type": "markdown",
   "id": "0ccd9fb9",
   "metadata": {},
   "source": [
    "# Insertion Sort"
   ]
  },
  {
   "cell_type": "markdown",
   "id": "5e6dbb79",
   "metadata": {},
   "source": [
    "**Pseudo Code:**\n",
    "\n",
    "1. Assign 2nd index as key and 1st index as already sorted element.\n",
    "2. Compare the key with the index.\n",
    "3. If the key is less than 1st element swap the key.\n",
    "4. Now, assign the key to the 3rd index.\n",
    "5. Repeat the process checking the left side of the key.\n",
    "6. Last, we will get the sorted list.\n"
   ]
  },
  {
   "cell_type": "code",
   "execution_count": 1,
   "id": "307fe24b",
   "metadata": {},
   "outputs": [],
   "source": [
    "# Insertion Sort\n",
    "def insertion_sort(lst):\n",
    "\n",
    "    n = len(lst)\n",
    "    \n",
    "    # Looping through list\n",
    "    for i in range( 1, n ):\n",
    "        \n",
    "        # Assigning key to the element of the list\n",
    "        key = lst[i]\n",
    "        j = i - 1 \n",
    "        \n",
    "        # Comparing the elements of the list with the key on the left of list. \n",
    "        while j >= 0 and key < lst[j]:\n",
    "            \n",
    "            lst[j + 1] = lst[j]\n",
    "            \n",
    "            j -= 1 # Looping to left of the key element.\n",
    "        \n",
    "        # Putting the elements in the correct position.\n",
    "        lst[ j + 1] = key\n",
    "\n",
    "    return lst"
   ]
  },
  {
   "cell_type": "code",
   "execution_count": 2,
   "id": "053c6137",
   "metadata": {},
   "outputs": [
    {
     "name": "stdout",
     "output_type": "stream",
     "text": [
      "Before Sorting: [5, 8, 3, 9, 4, 1] \n",
      "\n",
      "After Sorting: [1, 3, 4, 5, 8, 9]\n"
     ]
    }
   ],
   "source": [
    "lst = [5, 8, 3, 9, 4, 1]\n",
    "\n",
    "print('Before Sorting:', lst,'\\n')\n",
    "\n",
    "print('After Sorting:', insertion_sort(lst))"
   ]
  }
 ],
 "metadata": {
  "kernelspec": {
   "display_name": "Python 3 (ipykernel)",
   "language": "python",
   "name": "python3"
  },
  "language_info": {
   "codemirror_mode": {
    "name": "ipython",
    "version": 3
   },
   "file_extension": ".py",
   "mimetype": "text/x-python",
   "name": "python",
   "nbconvert_exporter": "python",
   "pygments_lexer": "ipython3",
   "version": "3.9.12"
  }
 },
 "nbformat": 4,
 "nbformat_minor": 5
}

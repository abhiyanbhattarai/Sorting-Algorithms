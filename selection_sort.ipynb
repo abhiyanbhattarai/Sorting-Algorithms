{
 "cells": [
  {
   "cell_type": "markdown",
   "metadata": {},
   "source": [
    "# Selection Sorting\n",
    "\n",
    "**Pseudo Code:**\n",
    "1. Assign 1st element of list as a minimum.\n",
    "2. Compare min with 2nd element.\n",
    "3. If min is greater than 2nd element, assign min to 2nd element.\n",
    "4. Repeat the same for all ellements.\n",
    "5. After comparing all elements, put min to initial index value.\n",
    "6. Again do same process staring from 2nd index."
   ]
  },
  {
   "cell_type": "code",
   "execution_count": 55,
   "metadata": {},
   "outputs": [],
   "source": [
    "#define a function named selection_sort\n",
    "def selection_sort(lst):\n",
    "    #Looping throughout our list\n",
    "    for i in range(len(lst)):\n",
    "        # Assigning min index as the 1st element\n",
    "        min = i\n",
    "        #Looping and checking the values\n",
    "        for j in range(i+1 , len(lst)):\n",
    "            #Checking if our minimum value is greater than other index value\n",
    "            if lst[min] > lst[j]:\n",
    "                #if condition satisfied, we assign min to another smaller value\n",
    "                min = j\n",
    "        #Swapping and putting the values in a sorted order \n",
    "        temp = lst[min]\n",
    "        lst[min] = lst[i]\n",
    "        lst[i] = temp\n",
    "        # (lst[i],lst[min]) = ( lst[min], lst[i]) #Other way of swapping a element\n",
    "    return lst"
   ]
  },
  {
   "cell_type": "code",
   "execution_count": 57,
   "metadata": {},
   "outputs": [
    {
     "name": "stdout",
     "output_type": "stream",
     "text": [
      "Before Sorting: [5, 10, 2, 8, 4, 9, 1]\n",
      "After Sorting: [1, 2, 4, 5, 8, 9, 10]\n"
     ]
    }
   ],
   "source": [
    "lst = [5,10,2,8,4,9,1]\n",
    "print(\"Before Sorting:\",lst)\n",
    "print(\"After Sorting:\",selection_sort(lst))"
   ]
  },
  
 ],
 "metadata": {
  "kernelspec": {
   "display_name": "Python 3.8.2 64-bit",
   "language": "python",
   "name": "python3"
  },
  "language_info": {
   "codemirror_mode": {
    "name": "ipython",
    "version": 3
   },
   "file_extension": ".py",
   "mimetype": "text/x-python",
   "name": "python",
   "nbconvert_exporter": "python",
   "pygments_lexer": "ipython3",
   "version": "3.8.2"
  },
  "orig_nbformat": 4,
  "vscode": {
   "interpreter": {
    "hash": "570feb405e2e27c949193ac68f46852414290d515b0ba6e5d90d076ed2284471"
   }
  }
 },
 "nbformat": 4,
 "nbformat_minor": 2
}

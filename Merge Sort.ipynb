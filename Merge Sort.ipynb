{
  "nbformat": 4,
  "nbformat_minor": 0,
  "metadata": {
    "colab": {
      "provenance": []
    },
    "kernelspec": {
      "name": "python3",
      "display_name": "Python 3"
    },
    "language_info": {
      "name": "python"
    }
  },
  "cells": [
    {
      "cell_type": "markdown",
      "source": [
        "# Merge Sort"
      ],
      "metadata": {
        "id": "71-QzB4TEk4t"
      }
    },
    {
      "cell_type": "markdown",
      "source": [
        "**Merge Sort** is a sorting algorithm that sorts the elements by *divide-and-conquer* strategey and combine the sorted list."
      ],
      "metadata": {
        "id": "RNF9Vqd_Gjro"
      }
    },
    {
      "cell_type": "markdown",
      "source": [
        "**Working:**\n",
        "\n",
        "1. Check if there is only 1 element in list or array.\n",
        "2. Divide the list to the half.\n",
        "3. Make the left and right portion of list.\n",
        "4. Keep splitting, until the condition is met.\n",
        "5. After splitting, check if the left is lesser than right side.\n",
        "6. If true, combine them."
      ],
      "metadata": {
        "id": "4tIapo_fEk1z"
      }
    },
    {
      "cell_type": "code",
      "execution_count": 13,
      "metadata": {
        "id": "c9G29BLpBVi8"
      },
      "outputs": [],
      "source": [
        "# Merge Sort\n",
        "def merge_sort(lst): # This function is only to split our list\n",
        "  # If there is only 1 element in the list\n",
        "  if len(lst) <= 1:\n",
        "    return lst\n",
        "\n",
        "  else:\n",
        "    mid = len(lst) // 2 # Mid point of the list index\n",
        "\n",
        "    left_lst = lst[ : mid ] # Left portion of the list\n",
        "    right_lst = lst[ mid : ] # Right portion of the list\n",
        "\n",
        "    # Splitting the list\n",
        "    left_sort = merge_sort(left_lst) # Left Split\n",
        "    right_sort = merge_sort(right_lst) # Right Split\n",
        "\n",
        "    return merge(left_sort , right_sort) # Returning splited list to sort\n",
        "\n",
        "def merge(left , right): # Here actual sorting is done after splitting\n",
        "\n",
        "  result = [] # Empty list\n",
        "  i = j = 0  # Index for left and right\n",
        "\n",
        "  # Loop until the lists are not empty\n",
        "  while i < len(left) and j < len(right):\n",
        "\n",
        "    if left[i] < right[j]:\n",
        "      result.append(left[i])\n",
        "      i += 1\n",
        "\n",
        "    else:\n",
        "      result.append(right[j])\n",
        "      j += 1\n",
        "\n",
        "  # Adding the left and right list to result\n",
        "  result.extend(left[i:])\n",
        "  result.extend(right[j:])\n",
        "\n",
        "  return result"
      ]
    },
    {
      "cell_type": "code",
      "source": [
        "lst = [5,10,9,3,1,7,4]\n",
        "\n",
        "print('Before Sorting:',lst,'\\n')\n",
        "print('After Sorting:',merge_sort(lst))"
      ],
      "metadata": {
        "colab": {
          "base_uri": "https://localhost:8080/"
        },
        "id": "-86t_KsbDhK_",
        "outputId": "0a54ada6-6cee-49fc-c2c7-f7181978ce88"
      },
      "execution_count": 14,
      "outputs": [
        {
          "output_type": "stream",
          "name": "stdout",
          "text": [
            "Before Sorting: [5, 10, 9, 3, 1, 7, 4] \n",
            "\n",
            "After Sorting: [1, 3, 4, 5, 7, 9, 10]\n"
          ]
        }
      ]
    }
  ]
}